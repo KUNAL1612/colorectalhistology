{
 "cells": [
  {
   "cell_type": "code",
   "execution_count": 37,
   "metadata": {},
   "outputs": [],
   "source": [
    "import matplotlib.pyplot as plt\n",
    "%matplotlib inline\n",
    "import seaborn as sns\n",
    "import numpy as np\n",
    "import pandas as pd\n",
    "from glob import glob\n",
    "import os\n",
    "\n",
    "from keras.models import Sequential,Model,model_from_json\n",
    "from keras.layers import MaxPool2D,Convolution2D,BatchNormalization,Flatten,Dense,Dropout,Input,Layer\n",
    "from keras.preprocessing.image import image\n",
    "from keras.utils import to_categorical\n",
    "from sklearn.metrics import confusion_matrix,classification_report,f1_score \n",
    "from sklearn.preprocessing import LabelEncoder\n",
    "from sklearn.model_selection import train_test_split\n",
    "from keras.applications.vgg16 import VGG16\n",
    "from keras.callbacks import ReduceLROnPlateau\n",
    "\n",
    "from PIL import Image as pImg\n",
    "\n"
   ]
  },
  {
   "cell_type": "code",
   "execution_count": 2,
   "metadata": {},
   "outputs": [],
   "source": [
    "katherDir='Kather_texture_2016_image_tiles_5000'\n",
    "#create two empty lists\n",
    "X=list()\n",
    "y=list()\n",
    "for ff in os.listdir(katherDir):\n",
    "    for f in os.listdir(katherDir+'/'+ff):\n",
    "        file=katherDir+'/'+ff+'/'+f\n",
    "        img=image.load_img(file,target_size=(100,100))\n",
    "        X.append(np.array(img))\n",
    "        y.append(ff.split('_')[1])\n",
    "        \n",
    "        "
   ]
  },
  {
   "cell_type": "code",
   "execution_count": 5,
   "metadata": {},
   "outputs": [],
   "source": [
    "X=np.array(X)\n",
    "X=X.reshape(5000,100,100,3)\n",
    "y=np.array(y)\n",
    "num_classes=len(set(y))\n",
    "le=LabelEncoder()\n",
    "y=le.fit_transform(y)\n",
    "y_categorical=to_categorical(num_classes=num_classes,y=y)\n",
    "input_shape=(X.shape[1],X.shape[2],X.shape[3])\n",
    "\n",
    "\n",
    "\n"
   ]
  },
  {
   "cell_type": "code",
   "execution_count": 7,
   "metadata": {},
   "outputs": [
    {
     "data": {
      "text/plain": [
       "(5000, 8)"
      ]
     },
     "execution_count": 7,
     "metadata": {},
     "output_type": "execute_result"
    }
   ],
   "source": [
    "np.shape(y_categorical)"
   ]
  },
  {
   "cell_type": "code",
   "execution_count": 10,
   "metadata": {},
   "outputs": [],
   "source": [
    "#creating a list of the labels\n",
    "labelList=list()\n",
    "\n",
    "for name in os.listdir(katherDir):\n",
    "    labelList.append(name.split('_')[1])"
   ]
  },
  {
   "cell_type": "code",
   "execution_count": 11,
   "metadata": {},
   "outputs": [
    {
     "data": {
      "text/plain": [
       "['TUMOR',\n",
       " 'STROMA',\n",
       " 'COMPLEX',\n",
       " 'LYMPHO',\n",
       " 'DEBRIS',\n",
       " 'MUCOSA',\n",
       " 'ADIPOSE',\n",
       " 'EMPTY']"
      ]
     },
     "execution_count": 11,
     "metadata": {},
     "output_type": "execute_result"
    }
   ],
   "source": [
    "labelList"
   ]
  },
  {
   "cell_type": "code",
   "execution_count": 14,
   "metadata": {},
   "outputs": [],
   "source": [
    "weights='keras-pretrained-models/vgg16_weights_tf_dim_ordering_tf_kernels_notop.h5'\n",
    "\n",
    "vgg16=VGG16(weights=weights,include_top=False,input_shape=input_shape)\n",
    "for l in vgg16.layers:\n",
    "    l.trainable=False"
   ]
  },
  {
   "cell_type": "code",
   "execution_count": 15,
   "metadata": {},
   "outputs": [
    {
     "name": "stdout",
     "output_type": "stream",
     "text": [
      "_________________________________________________________________\n",
      "Layer (type)                 Output Shape              Param #   \n",
      "=================================================================\n",
      "input_1 (InputLayer)         (None, 100, 100, 3)       0         \n",
      "_________________________________________________________________\n",
      "block1_conv1 (Conv2D)        (None, 100, 100, 64)      1792      \n",
      "_________________________________________________________________\n",
      "block1_conv2 (Conv2D)        (None, 100, 100, 64)      36928     \n",
      "_________________________________________________________________\n",
      "block1_pool (MaxPooling2D)   (None, 50, 50, 64)        0         \n",
      "_________________________________________________________________\n",
      "block2_conv1 (Conv2D)        (None, 50, 50, 128)       73856     \n",
      "_________________________________________________________________\n",
      "block2_conv2 (Conv2D)        (None, 50, 50, 128)       147584    \n",
      "_________________________________________________________________\n",
      "block2_pool (MaxPooling2D)   (None, 25, 25, 128)       0         \n",
      "_________________________________________________________________\n",
      "block3_conv1 (Conv2D)        (None, 25, 25, 256)       295168    \n",
      "_________________________________________________________________\n",
      "block3_conv2 (Conv2D)        (None, 25, 25, 256)       590080    \n",
      "_________________________________________________________________\n",
      "block3_conv3 (Conv2D)        (None, 25, 25, 256)       590080    \n",
      "_________________________________________________________________\n",
      "block3_pool (MaxPooling2D)   (None, 12, 12, 256)       0         \n",
      "_________________________________________________________________\n",
      "block4_conv1 (Conv2D)        (None, 12, 12, 512)       1180160   \n",
      "_________________________________________________________________\n",
      "block4_conv2 (Conv2D)        (None, 12, 12, 512)       2359808   \n",
      "_________________________________________________________________\n",
      "block4_conv3 (Conv2D)        (None, 12, 12, 512)       2359808   \n",
      "_________________________________________________________________\n",
      "block4_pool (MaxPooling2D)   (None, 6, 6, 512)         0         \n",
      "_________________________________________________________________\n",
      "block5_conv1 (Conv2D)        (None, 6, 6, 512)         2359808   \n",
      "_________________________________________________________________\n",
      "block5_conv2 (Conv2D)        (None, 6, 6, 512)         2359808   \n",
      "_________________________________________________________________\n",
      "block5_conv3 (Conv2D)        (None, 6, 6, 512)         2359808   \n",
      "_________________________________________________________________\n",
      "block5_pool (MaxPooling2D)   (None, 3, 3, 512)         0         \n",
      "_________________________________________________________________\n",
      "flatten_1 (Flatten)          (None, 4608)              0         \n",
      "_________________________________________________________________\n",
      "dense_1 (Dense)              (None, 1000)              4609000   \n",
      "_________________________________________________________________\n",
      "dropout_1 (Dropout)          (None, 1000)              0         \n",
      "_________________________________________________________________\n",
      "dense_2 (Dense)              (None, 500)               500500    \n",
      "_________________________________________________________________\n",
      "dropout_2 (Dropout)          (None, 500)               0         \n",
      "_________________________________________________________________\n",
      "dense_3 (Dense)              (None, 8)                 4008      \n",
      "=================================================================\n",
      "Total params: 19,828,196\n",
      "Trainable params: 5,113,508\n",
      "Non-trainable params: 14,714,688\n",
      "_________________________________________________________________\n"
     ]
    },
    {
     "name": "stderr",
     "output_type": "stream",
     "text": [
      "D:\\Anaconda3\\lib\\site-packages\\ipykernel_launcher.py:9: UserWarning: Update your `Model` call to the Keras 2 API: `Model(inputs=Tensor(\"in..., outputs=Tensor(\"de...)`\n",
      "  if __name__ == '__main__':\n"
     ]
    }
   ],
   "source": [
    "#addcustomlayers\n",
    "\n",
    "customLayers=Flatten()(vgg16.output)\n",
    "customLayers=Dense(1000,activation='relu')(customLayers)\n",
    "customLayers=Dropout(0.5)(customLayers)\n",
    "customLayers=Dense(500,activation='relu')(customLayers)\n",
    "customLayers=Dropout(0.5)(customLayers)\n",
    "customLayers=Dense(8,activation='softmax')(customLayers)\n",
    "customModel=Model(input=vgg16.input,output=customLayers)\n",
    "customModel.summary()\n",
    "\n",
    "\n"
   ]
  },
  {
   "cell_type": "code",
   "execution_count": 19,
   "metadata": {},
   "outputs": [
    {
     "name": "stderr",
     "output_type": "stream",
     "text": [
      "D:\\Anaconda3\\lib\\site-packages\\sklearn\\preprocessing\\label.py:151: DeprecationWarning: The truth value of an empty array is ambiguous. Returning False, but in future this will result in an error. Use `array.size > 0` to check that an array is not empty.\n",
      "  if diff:\n"
     ]
    },
    {
     "data": {
      "text/plain": [
       "Text(0.5,0,'TUMOR')"
      ]
     },
     "execution_count": 19,
     "metadata": {},
     "output_type": "execute_result"
    },
    {
     "data": {
      "image/png": "[encoded data removed]",
      "text/plain": [
       "<Figure size 432x288 with 1 Axes>"
      ]
     },
     "metadata": {},
     "output_type": "display_data"
    }
   ],
   "source": [
    "idx=np.random.randint(len(X))\n",
    "plt.imshow(X[idx].reshape(100,100,3))\n",
    "plt.xlabel(le.inverse_transform(y[idx]))"
   ]
  },
  {
   "cell_type": "code",
   "execution_count": 22,
   "metadata": {},
   "outputs": [
    {
     "data": {
      "text/plain": [
       "(4000, 100, 100, 3)"
      ]
     },
     "execution_count": 22,
     "metadata": {},
     "output_type": "execute_result"
    }
   ],
   "source": [
    "X_train,X_test,y_train,y_test=train_test_split(X,y_categorical,train_size=0.80,test_size=0.20,random_state=43)\n",
    "np.shape(X_train)"
   ]
  },
  {
   "cell_type": "code",
   "execution_count": 24,
   "metadata": {},
   "outputs": [],
   "source": [
    "customModel.compile(loss='categorical_crossentropy',optimizer='adam',metrics=['acc'])"
   ]
  },
  {
   "cell_type": "code",
   "execution_count": 29,
   "metadata": {},
   "outputs": [],
   "source": [
    "#a good way to set the learning rate alpha is by using ReduceLROnPlateau. Here, we halve the alpha if accuracy is not\n",
    "#improved whithin 3 epochs. So this way we can use the panda approach to tuning the hyperparamaters\n",
    "\n",
    "learning_rate_reduction=ReduceLROnPlateau(monitor='acc', #quantity to be monitored\n",
    "                                          patience=3, #no of epochs to wait for before reducing alpha\n",
    "                                          verbose=1, #TRUE\n",
    "                                          factor=0.5, #factor by which learning rate will be reduced\n",
    "                                          min_lr=0.00001 #minimum learning rate beyond which no reduction\n",
    "                                         )"
   ]
  },
  {
   "cell_type": "code",
   "execution_count": 30,
   "metadata": {},
   "outputs": [
    {
     "name": "stdout",
     "output_type": "stream",
     "text": [
      "Epoch 1/30\n",
      "4000/4000 [==============================] - 10s 3ms/step - loss: 5.9284 - acc: 0.6320\n",
      "Epoch 2/30\n",
      "4000/4000 [==============================] - 10s 3ms/step - loss: 5.7681 - acc: 0.6415\n",
      "Epoch 3/30\n",
      "4000/4000 [==============================] - 10s 3ms/step - loss: 6.0072 - acc: 0.6272\n",
      "Epoch 4/30\n",
      "4000/4000 [==============================] - 10s 3ms/step - loss: 5.9961 - acc: 0.6278\n",
      "Epoch 5/30\n",
      "4000/4000 [==============================] - 11s 3ms/step - loss: 5.7698 - acc: 0.6418\n",
      "Epoch 6/30\n",
      "4000/4000 [==============================] - 11s 3ms/step - loss: 6.1040 - acc: 0.6210\n",
      "Epoch 7/30\n",
      "4000/4000 [==============================] - 11s 3ms/step - loss: 5.8411 - acc: 0.6375\n",
      "Epoch 8/30\n",
      "4000/4000 [==============================] - 11s 3ms/step - loss: 6.0690 - acc: 0.6232\n",
      "\n",
      "Epoch 00008: ReduceLROnPlateau reducing learning rate to 0.0005000000237487257.\n",
      "Epoch 9/30\n",
      "4000/4000 [==============================] - 11s 3ms/step - loss: 6.6520 - acc: 0.5872\n",
      "Epoch 10/30\n",
      "4000/4000 [==============================] - 11s 3ms/step - loss: 6.0793 - acc: 0.6225\n",
      "Epoch 11/30\n",
      "4000/4000 [==============================] - 11s 3ms/step - loss: 5.7391 - acc: 0.6437\n",
      "Epoch 12/30\n",
      "4000/4000 [==============================] - 11s 3ms/step - loss: 5.7747 - acc: 0.6415\n",
      "Epoch 13/30\n",
      "4000/4000 [==============================] - 11s 3ms/step - loss: 5.6775 - acc: 0.6475\n",
      "Epoch 14/30\n",
      "4000/4000 [==============================] - 11s 3ms/step - loss: 5.6843 - acc: 0.6472\n",
      "Epoch 15/30\n",
      "4000/4000 [==============================] - 11s 3ms/step - loss: 5.6744 - acc: 0.6478\n",
      "Epoch 16/30\n",
      "4000/4000 [==============================] - 11s 3ms/step - loss: 5.7265 - acc: 0.6445\n",
      "Epoch 17/30\n",
      "4000/4000 [==============================] - 11s 3ms/step - loss: 5.6054 - acc: 0.6518\n",
      "Epoch 18/30\n",
      "4000/4000 [==============================] - 11s 3ms/step - loss: 5.6808 - acc: 0.6475\n",
      "Epoch 19/30\n",
      "4000/4000 [==============================] - 11s 3ms/step - loss: 5.7138 - acc: 0.6452\n",
      "Epoch 20/30\n",
      "4000/4000 [==============================] - 11s 3ms/step - loss: 5.7040 - acc: 0.6460\n",
      "\n",
      "Epoch 00020: ReduceLROnPlateau reducing learning rate to 0.0002500000118743628.\n",
      "Epoch 21/30\n",
      "4000/4000 [==============================] - 11s 3ms/step - loss: 5.7288 - acc: 0.6445\n",
      "Epoch 22/30\n",
      "4000/4000 [==============================] - 11s 3ms/step - loss: 5.7349 - acc: 0.6440\n",
      "Epoch 23/30\n",
      "4000/4000 [==============================] - 11s 3ms/step - loss: 5.5561 - acc: 0.6550\n",
      "Epoch 24/30\n",
      "4000/4000 [==============================] - 11s 3ms/step - loss: 5.5033 - acc: 0.6585\n",
      "Epoch 25/30\n",
      "4000/4000 [==============================] - 11s 3ms/step - loss: 5.5234 - acc: 0.6568\n",
      "Epoch 26/30\n",
      "4000/4000 [==============================] - 11s 3ms/step - loss: 5.5118 - acc: 0.6577\n",
      "Epoch 27/30\n",
      "4000/4000 [==============================] - 11s 3ms/step - loss: 5.4934 - acc: 0.6587\n",
      "Epoch 28/30\n",
      "4000/4000 [==============================] - 11s 3ms/step - loss: 5.5729 - acc: 0.6540\n",
      "Epoch 29/30\n",
      "4000/4000 [==============================] - 11s 3ms/step - loss: 5.6858 - acc: 0.6472\n",
      "Epoch 30/30\n",
      "4000/4000 [==============================] - 11s 3ms/step - loss: 5.6340 - acc: 0.6500\n",
      "\n",
      "Epoch 00030: ReduceLROnPlateau reducing learning rate to 0.0001250000059371814.\n"
     ]
    }
   ],
   "source": [
    "epochs=30\n",
    "batch_size=128\n",
    "history=customModel.fit(X_train,y_train,batch_size=batch_size,epochs=epochs,verbose=1,shuffle=True,callbacks=[learning_rate_reduction])"
   ]
  },
  {
   "cell_type": "code",
   "execution_count": 31,
   "metadata": {},
   "outputs": [
    {
     "name": "stdout",
     "output_type": "stream",
     "text": [
      "Saved model to disk\n"
     ]
    }
   ],
   "source": [
    "model_json=customModel.to_json()\n",
    "with open('model.json','w') as json_file:\n",
    "    json_file.write(model_json)\n",
    "\n",
    "customModel.save_weights(\"model.h5\")\n",
    "print(\"Saved model to disk\")"
   ]
  },
  {
   "cell_type": "code",
   "execution_count": 32,
   "metadata": {},
   "outputs": [
    {
     "name": "stdout",
     "output_type": "stream",
     "text": [
      "Loaded model from disk\n"
     ]
    }
   ],
   "source": [
    "json_file = open('model.json', 'r')\n",
    "loaded_model_json = json_file.read()\n",
    "json_file.close()\n",
    "loaded_model = model_from_json(loaded_model_json)\n",
    "# load weights into new model\n",
    "loaded_model.load_weights(\"model.h5\")\n",
    "print(\"Loaded model from disk\")"
   ]
  },
  {
   "cell_type": "code",
   "execution_count": 35,
   "metadata": {},
   "outputs": [],
   "source": [
    "y_hat=loaded_model.predict(X_test)\n",
    "y_hat=[np.argmax(t) for t in y_hat]\n",
    "y_true=[np.argmax(t) for t in y_test]"
   ]
  },
  {
   "cell_type": "code",
   "execution_count": 36,
   "metadata": {},
   "outputs": [
    {
     "name": "stdout",
     "output_type": "stream",
     "text": [
      "[[123   0   0   2   0   0   0   2]\n",
      " [  0 107   2   0  32   0   0   8]\n",
      " [  1  13  85   0   4   0   0  11]\n",
      " [  1   0   2 108   0   0   0   0]\n",
      " [  0   9   0   0 112   0   0   0]\n",
      " [  4   4  30   0  19   0   0  75]\n",
      " [  1  67  52   0   2   0   0  14]\n",
      " [  1  11   0   0  10   0   0  88]]\n"
     ]
    }
   ],
   "source": [
    "print(confusion_matrix(y_true,y_hat))"
   ]
  },
  {
   "cell_type": "code",
   "execution_count": null,
   "metadata": {},
   "outputs": [],
   "source": []
  }
 ],
 "metadata": {
  "kernelspec": {
   "display_name": "Python 3",
   "language": "python",
   "name": "python3"
  },
  "language_info": {
   "codemirror_mode": {
    "name": "ipython",
    "version": 3
   },
   "file_extension": ".py",
   "mimetype": "text/x-python",
   "name": "python",
   "nbconvert_exporter": "python",
   "pygments_lexer": "ipython3",
   "version": "3.6.5"
  }
 },
 "nbformat": 4,
 "nbformat_minor": 2
}
